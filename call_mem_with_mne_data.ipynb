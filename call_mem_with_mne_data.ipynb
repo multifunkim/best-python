{
 "cells": [
  {
   "cell_type": "markdown",
   "metadata": {},
   "source": [
    "License: BSD-3-Clause\n",
    "\n",
    "Copyright the MNE-Python contributors.\n",
    "\n",
    "Edited by: Edouard Delaire, Ilian Azz"
   ]
  },
  {
   "cell_type": "markdown",
   "metadata": {},
   "source": [
    "# Install PIP dependencies"
   ]
  },
  {
   "cell_type": "code",
   "execution_count": null,
   "metadata": {
    "vscode": {
     "languageId": "shellscript"
    }
   },
   "outputs": [],
   "source": [
    "# Able to export maps as movies (optional)\n",
    "%pip install imageio\n",
    "# to convert the notebook to html, pdf, etc. (optional)\n",
    "%pip install nbconvert\n",
    "%pip install scipy\n",
    "%pip install mne==1.7.0\n",
    "%pip install matplotlib\n",
    "%pip install numpy\n",
    "%pip install pandas\n",
    "%pip install darkdetect\n",
    "# HERE \n",
    "# !!!!! The matlabengine version should match the version of MATLAB installed on your system !!!!!\n",
    "# Check : https://www.mathworks.com/help/matlab/matlab_external/install-the-matlab-engine-for-python.html#\n",
    "#%pip install matlabengine==23.2.3"
   ]
  },
  {
   "cell_type": "markdown",
   "metadata": {},
   "source": [
    "# Load MNE model"
   ]
  },
  {
   "cell_type": "code",
   "execution_count": null,
   "metadata": {},
   "outputs": [],
   "source": [
    "import mne\n",
    "\n",
    "from mne.datasets import sample\n",
    "\n",
    "data_path = sample.data_path()\n",
    "meg_path = data_path / \"MEG\" / \"sample\"\n",
    "fwd_fname = meg_path / \"sample_audvis-meg-eeg-oct-6-fwd.fif\"\n",
    "ave_fname = meg_path / \"sample_audvis-ave.fif\"\n",
    "cov_fname = meg_path / \"sample_audvis-shrunk-cov.fif\"\n",
    "subjects_dir = data_path / \"subjects\"\n",
    "condition = \"Left Auditory\"\n",
    "\n",
    "# Read noise covariance matrix\n",
    "noise_cov = mne.read_cov(cov_fname)\n",
    "# Handling average file\n",
    "evoked = mne.read_evokeds(ave_fname, condition=condition, baseline=(None, 0))\n",
    "evoked.crop(tmin=0.04, tmax=0.18)\n",
    "\n",
    "evoked = evoked.pick(picks=\"meg\", exclude=\"bads\")\n",
    "# Handling forward solution\n",
    "forward = mne.read_forward_solution(fwd_fname)\n",
    "\n",
    "# Convertir à un modèle à orientation libre\n",
    "# force_fixed: Orientation fixe ou libre\n",
    "# surf_ori: orientaton vers la surface\n",
    "forward = mne.convert_forward_solution(forward, force_fixed=True, surf_ori=True)"
   ]
  },
  {
   "cell_type": "markdown",
   "metadata": {},
   "source": [
    "# Call MEM using the matlab wrapper\n"
   ]
  },
  {
   "cell_type": "code",
   "execution_count": null,
   "metadata": {},
   "outputs": [],
   "source": [
    "# Start MATLAB engine\n",
    "import bestpython\n",
    "\n",
    "# Initialize MatlabWrapper\n",
    "matlab_wrapper = bestpython.MatlabWrapper(\"/Users/edelaire1/.brainstorm/plugins/brainentropy/best-brainstorm-master\")\n",
    "\n",
    "# Define option for MEM\n",
    "mem_options = bestpython.MEMOptions(\n",
    "    data_modality=\"MEG\",\n",
    "    time_segment = [0.04, 0.18],\n",
    "    baseline_time = [0.04, 0.1]\n",
    ")\n",
    "\n",
    "# Call MEM solver\n",
    "stc_cmem = matlab_wrapper.mem_solver(evoked, forward, noise_cov, MEMOptions=mem_options)"
   ]
  },
  {
   "cell_type": "markdown",
   "metadata": {},
   "source": [
    "# Show results"
   ]
  },
  {
   "cell_type": "markdown",
   "metadata": {},
   "source": [
    "## Brain Map of the solutions"
   ]
  },
  {
   "cell_type": "code",
   "execution_count": null,
   "metadata": {},
   "outputs": [],
   "source": [
    "initial_time = -0.1\n",
    "brain_cmem = stc_cmem.plot(\n",
    "    subjects_dir=subjects_dir,\n",
    "    initial_time=initial_time,\n",
    "    # clim=dict(kind=\"value\", lims=[0, 5e-11, 1e-10]),\n",
    "    smoothing_steps=7,\n",
    "    hemi='both',\n",
    ")\n",
    "\n",
    "brain_cmem.add_text(0.1, 0.9, \"cMEM\", \"title\", font_size=14)"
   ]
  },
  {
   "cell_type": "markdown",
   "metadata": {},
   "source": [
    "## Amplitude for each source and vetex"
   ]
  },
  {
   "cell_type": "markdown",
   "metadata": {},
   "source": [
    "## Compare with MNE Default method"
   ]
  },
  {
   "cell_type": "code",
   "execution_count": null,
   "metadata": {},
   "outputs": [],
   "source": [
    "from mne import read_source_estimate\n",
    "from mne.minimum_norm import apply_inverse, make_inverse_operator\n",
    "\n",
    "fname_stc = meg_path / \"sample_audvis-meg\"\n",
    "\n",
    "inverse_operator = make_inverse_operator(\n",
    "    evoked.info, forward, noise_cov, loose=0, depth=0\n",
    ")\n",
    "\n",
    "stc_mne = apply_inverse(\n",
    "    evoked,\n",
    "    inverse_operator,\n",
    "    pick_ori=None,\n",
    "    method=\"MNE\"\n",
    ")\n",
    "\n",
    "# Define plotting parameters\n",
    "surfer_kwargs = dict(\n",
    "    hemi=\"both\",\n",
    "    subjects_dir=subjects_dir,\n",
    "    smoothing_steps=7,\n",
    ")\n",
    "\n",
    "# Plot surface\n",
    "brain_mne = stc_mne.plot(**surfer_kwargs)\n",
    "brain_mne.add_text(0.1, 0.9, \"MNE\", \"title\", font_size=14)"
   ]
  },
  {
   "cell_type": "markdown",
   "metadata": {},
   "source": [
    "## Show maps with absolute values"
   ]
  },
  {
   "cell_type": "code",
   "execution_count": null,
   "metadata": {},
   "outputs": [],
   "source": [
    "import numpy as np\n",
    "\n",
    "stc_cmem_abs = stc_cmem.copy()\n",
    "stc_cmem_abs.data = np.abs(stc_cmem_abs.data)\n",
    "\n",
    "brain_cmem_abs = stc_cmem_abs.plot(\n",
    "    subject=\"sample\",\n",
    "    subjects_dir=subjects_dir,\n",
    "    initial_time=initial_time,\n",
    "    smoothing_steps=7,\n",
    "    hemi='both',\n",
    "    title=\"cMEM abs\",\n",
    ")\n",
    "\n",
    "brain_cmem_abs.add_text(0.1, 0.9, \"cMEM abs\", \"title\", font_size=14)\n",
    "\n",
    "stc_mne_abs = stc_mne.copy()\n",
    "stc_mne_abs.data = np.abs(stc_mne_abs.data)\n",
    "\n",
    "# Plot the result\n",
    "brain_mne_abs = stc_mne_abs.plot(\n",
    "    subject=\"sample\",\n",
    "    subjects_dir=subjects_dir,\n",
    "    initial_time=initial_time,\n",
    "    smoothing_steps=7,\n",
    "    hemi='both',\n",
    ")\n",
    "\n",
    "brain_mne_abs.add_text(0.1, 0.9, \"MNE abs\", \"title\", font_size=14)"
   ]
  }
 ],
 "metadata": {
  "kernelspec": {
   "display_name": "mne_python",
   "language": "python",
   "name": "python3"
  },
  "language_info": {
   "codemirror_mode": {
    "name": "ipython",
    "version": 3
   },
   "file_extension": ".py",
   "mimetype": "text/x-python",
   "name": "python",
   "nbconvert_exporter": "python",
   "pygments_lexer": "ipython3",
   "version": "3.11.9"
  }
 },
 "nbformat": 4,
 "nbformat_minor": 2
}
