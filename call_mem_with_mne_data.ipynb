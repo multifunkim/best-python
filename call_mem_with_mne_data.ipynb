{
 "cells": [
  {
   "cell_type": "markdown",
   "metadata": {},
   "source": [
    "License: BSD-3-Clause\n",
    "\n",
    "Copyright the MNE-Python contributors.\n",
    "\n",
    "Edited by: Edouard Delaire, Ilian Azz"
   ]
  },
  {
   "cell_type": "markdown",
   "metadata": {},
   "source": [
    "# Install PIP dependencies"
   ]
  },
  {
   "cell_type": "code",
   "execution_count": 2,
   "metadata": {
    "vscode": {
     "languageId": "shellscript"
    }
   },
   "outputs": [
    {
     "name": "stdout",
     "output_type": "stream",
     "text": [
      "Requirement already satisfied: imageio in /Users/edelaire1/miniconda3/envs/mne_python/lib/python3.11/site-packages (2.37.0)\n",
      "Requirement already satisfied: numpy in /Users/edelaire1/miniconda3/envs/mne_python/lib/python3.11/site-packages (from imageio) (2.2.3)\n",
      "Requirement already satisfied: pillow>=8.3.2 in /Users/edelaire1/miniconda3/envs/mne_python/lib/python3.11/site-packages (from imageio) (11.1.0)\n",
      "Note: you may need to restart the kernel to use updated packages.\n",
      "Requirement already satisfied: nbconvert in /Users/edelaire1/miniconda3/envs/mne_python/lib/python3.11/site-packages (7.16.6)\n",
      "Requirement already satisfied: beautifulsoup4 in /Users/edelaire1/miniconda3/envs/mne_python/lib/python3.11/site-packages (from nbconvert) (4.13.3)\n",
      "Requirement already satisfied: bleach!=5.0.0 in /Users/edelaire1/miniconda3/envs/mne_python/lib/python3.11/site-packages (from bleach[css]!=5.0.0->nbconvert) (6.2.0)\n",
      "Requirement already satisfied: defusedxml in /Users/edelaire1/miniconda3/envs/mne_python/lib/python3.11/site-packages (from nbconvert) (0.7.1)\n",
      "Requirement already satisfied: jinja2>=3.0 in /Users/edelaire1/miniconda3/envs/mne_python/lib/python3.11/site-packages (from nbconvert) (3.1.5)\n",
      "Requirement already satisfied: jupyter-core>=4.7 in /Users/edelaire1/miniconda3/envs/mne_python/lib/python3.11/site-packages (from nbconvert) (5.7.2)\n",
      "Requirement already satisfied: jupyterlab-pygments in /Users/edelaire1/miniconda3/envs/mne_python/lib/python3.11/site-packages (from nbconvert) (0.3.0)\n",
      "Requirement already satisfied: markupsafe>=2.0 in /Users/edelaire1/miniconda3/envs/mne_python/lib/python3.11/site-packages (from nbconvert) (3.0.2)\n",
      "Requirement already satisfied: mistune<4,>=2.0.3 in /Users/edelaire1/miniconda3/envs/mne_python/lib/python3.11/site-packages (from nbconvert) (3.1.2)\n",
      "Requirement already satisfied: nbclient>=0.5.0 in /Users/edelaire1/miniconda3/envs/mne_python/lib/python3.11/site-packages (from nbconvert) (0.10.2)\n",
      "Requirement already satisfied: nbformat>=5.7 in /Users/edelaire1/miniconda3/envs/mne_python/lib/python3.11/site-packages (from nbconvert) (5.10.4)\n",
      "Requirement already satisfied: packaging in /Users/edelaire1/miniconda3/envs/mne_python/lib/python3.11/site-packages (from nbconvert) (24.2)\n",
      "Requirement already satisfied: pandocfilters>=1.4.1 in /Users/edelaire1/miniconda3/envs/mne_python/lib/python3.11/site-packages (from nbconvert) (1.5.1)\n",
      "Requirement already satisfied: pygments>=2.4.1 in /Users/edelaire1/miniconda3/envs/mne_python/lib/python3.11/site-packages (from nbconvert) (2.15.1)\n",
      "Requirement already satisfied: traitlets>=5.1 in /Users/edelaire1/miniconda3/envs/mne_python/lib/python3.11/site-packages (from nbconvert) (5.14.3)\n",
      "Requirement already satisfied: webencodings in /Users/edelaire1/miniconda3/envs/mne_python/lib/python3.11/site-packages (from bleach!=5.0.0->bleach[css]!=5.0.0->nbconvert) (0.5.1)\n",
      "Requirement already satisfied: tinycss2<1.5,>=1.1.0 in /Users/edelaire1/miniconda3/envs/mne_python/lib/python3.11/site-packages (from bleach[css]!=5.0.0->nbconvert) (1.4.0)\n",
      "Requirement already satisfied: platformdirs>=2.5 in /Users/edelaire1/miniconda3/envs/mne_python/lib/python3.11/site-packages (from jupyter-core>=4.7->nbconvert) (3.10.0)\n",
      "Requirement already satisfied: jupyter-client>=6.1.12 in /Users/edelaire1/miniconda3/envs/mne_python/lib/python3.11/site-packages (from nbclient>=0.5.0->nbconvert) (8.6.3)\n",
      "Requirement already satisfied: fastjsonschema>=2.15 in /Users/edelaire1/miniconda3/envs/mne_python/lib/python3.11/site-packages (from nbformat>=5.7->nbconvert) (2.21.1)\n",
      "Requirement already satisfied: jsonschema>=2.6 in /Users/edelaire1/miniconda3/envs/mne_python/lib/python3.11/site-packages (from nbformat>=5.7->nbconvert) (4.23.0)\n",
      "Requirement already satisfied: soupsieve>1.2 in /Users/edelaire1/miniconda3/envs/mne_python/lib/python3.11/site-packages (from beautifulsoup4->nbconvert) (2.6)\n",
      "Requirement already satisfied: typing-extensions>=4.0.0 in /Users/edelaire1/miniconda3/envs/mne_python/lib/python3.11/site-packages (from beautifulsoup4->nbconvert) (4.12.2)\n",
      "Requirement already satisfied: attrs>=22.2.0 in /Users/edelaire1/miniconda3/envs/mne_python/lib/python3.11/site-packages (from jsonschema>=2.6->nbformat>=5.7->nbconvert) (25.1.0)\n",
      "Requirement already satisfied: jsonschema-specifications>=2023.03.6 in /Users/edelaire1/miniconda3/envs/mne_python/lib/python3.11/site-packages (from jsonschema>=2.6->nbformat>=5.7->nbconvert) (2024.10.1)\n",
      "Requirement already satisfied: referencing>=0.28.4 in /Users/edelaire1/miniconda3/envs/mne_python/lib/python3.11/site-packages (from jsonschema>=2.6->nbformat>=5.7->nbconvert) (0.36.2)\n",
      "Requirement already satisfied: rpds-py>=0.7.1 in /Users/edelaire1/miniconda3/envs/mne_python/lib/python3.11/site-packages (from jsonschema>=2.6->nbformat>=5.7->nbconvert) (0.23.1)\n",
      "Requirement already satisfied: python-dateutil>=2.8.2 in /Users/edelaire1/miniconda3/envs/mne_python/lib/python3.11/site-packages (from jupyter-client>=6.1.12->nbclient>=0.5.0->nbconvert) (2.9.0.post0)\n",
      "Requirement already satisfied: pyzmq>=23.0 in /Users/edelaire1/miniconda3/envs/mne_python/lib/python3.11/site-packages (from jupyter-client>=6.1.12->nbclient>=0.5.0->nbconvert) (26.2.0)\n",
      "Requirement already satisfied: tornado>=6.2 in /Users/edelaire1/miniconda3/envs/mne_python/lib/python3.11/site-packages (from jupyter-client>=6.1.12->nbclient>=0.5.0->nbconvert) (6.4.2)\n",
      "Requirement already satisfied: six>=1.5 in /Users/edelaire1/miniconda3/envs/mne_python/lib/python3.11/site-packages (from python-dateutil>=2.8.2->jupyter-client>=6.1.12->nbclient>=0.5.0->nbconvert) (1.16.0)\n",
      "Note: you may need to restart the kernel to use updated packages.\n",
      "Requirement already satisfied: scipy in /Users/edelaire1/miniconda3/envs/mne_python/lib/python3.11/site-packages (1.15.2)\n",
      "Requirement already satisfied: numpy<2.5,>=1.23.5 in /Users/edelaire1/miniconda3/envs/mne_python/lib/python3.11/site-packages (from scipy) (2.2.3)\n",
      "Note: you may need to restart the kernel to use updated packages.\n",
      "Requirement already satisfied: mne==1.7.0 in /Users/edelaire1/miniconda3/envs/mne_python/lib/python3.11/site-packages (1.7.0)\n",
      "Requirement already satisfied: decorator in /Users/edelaire1/miniconda3/envs/mne_python/lib/python3.11/site-packages (from mne==1.7.0) (5.1.1)\n",
      "Requirement already satisfied: jinja2 in /Users/edelaire1/miniconda3/envs/mne_python/lib/python3.11/site-packages (from mne==1.7.0) (3.1.5)\n",
      "Requirement already satisfied: lazy-loader>=0.3 in /Users/edelaire1/miniconda3/envs/mne_python/lib/python3.11/site-packages (from mne==1.7.0) (0.4)\n",
      "Requirement already satisfied: matplotlib>=3.5.0 in /Users/edelaire1/miniconda3/envs/mne_python/lib/python3.11/site-packages (from mne==1.7.0) (3.10.1)\n",
      "Requirement already satisfied: numpy>=1.21.2 in /Users/edelaire1/miniconda3/envs/mne_python/lib/python3.11/site-packages (from mne==1.7.0) (2.2.3)\n",
      "Requirement already satisfied: packaging in /Users/edelaire1/miniconda3/envs/mne_python/lib/python3.11/site-packages (from mne==1.7.0) (24.2)\n",
      "Requirement already satisfied: pooch>=1.5 in /Users/edelaire1/miniconda3/envs/mne_python/lib/python3.11/site-packages (from mne==1.7.0) (1.8.2)\n",
      "Requirement already satisfied: scipy>=1.7.1 in /Users/edelaire1/miniconda3/envs/mne_python/lib/python3.11/site-packages (from mne==1.7.0) (1.15.2)\n",
      "Requirement already satisfied: tqdm in /Users/edelaire1/miniconda3/envs/mne_python/lib/python3.11/site-packages (from mne==1.7.0) (4.67.1)\n",
      "Requirement already satisfied: contourpy>=1.0.1 in /Users/edelaire1/miniconda3/envs/mne_python/lib/python3.11/site-packages (from matplotlib>=3.5.0->mne==1.7.0) (1.3.1)\n",
      "Requirement already satisfied: cycler>=0.10 in /Users/edelaire1/miniconda3/envs/mne_python/lib/python3.11/site-packages (from matplotlib>=3.5.0->mne==1.7.0) (0.12.1)\n",
      "Requirement already satisfied: fonttools>=4.22.0 in /Users/edelaire1/miniconda3/envs/mne_python/lib/python3.11/site-packages (from matplotlib>=3.5.0->mne==1.7.0) (4.56.0)\n",
      "Requirement already satisfied: kiwisolver>=1.3.1 in /Users/edelaire1/miniconda3/envs/mne_python/lib/python3.11/site-packages (from matplotlib>=3.5.0->mne==1.7.0) (1.4.8)\n",
      "Requirement already satisfied: pillow>=8 in /Users/edelaire1/miniconda3/envs/mne_python/lib/python3.11/site-packages (from matplotlib>=3.5.0->mne==1.7.0) (11.1.0)\n",
      "Requirement already satisfied: pyparsing>=2.3.1 in /Users/edelaire1/miniconda3/envs/mne_python/lib/python3.11/site-packages (from matplotlib>=3.5.0->mne==1.7.0) (3.2.1)\n",
      "Requirement already satisfied: python-dateutil>=2.7 in /Users/edelaire1/miniconda3/envs/mne_python/lib/python3.11/site-packages (from matplotlib>=3.5.0->mne==1.7.0) (2.9.0.post0)\n",
      "Requirement already satisfied: platformdirs>=2.5.0 in /Users/edelaire1/miniconda3/envs/mne_python/lib/python3.11/site-packages (from pooch>=1.5->mne==1.7.0) (3.10.0)\n",
      "Requirement already satisfied: requests>=2.19.0 in /Users/edelaire1/miniconda3/envs/mne_python/lib/python3.11/site-packages (from pooch>=1.5->mne==1.7.0) (2.32.3)\n",
      "Requirement already satisfied: MarkupSafe>=2.0 in /Users/edelaire1/miniconda3/envs/mne_python/lib/python3.11/site-packages (from jinja2->mne==1.7.0) (3.0.2)\n",
      "Requirement already satisfied: six>=1.5 in /Users/edelaire1/miniconda3/envs/mne_python/lib/python3.11/site-packages (from python-dateutil>=2.7->matplotlib>=3.5.0->mne==1.7.0) (1.16.0)\n",
      "Requirement already satisfied: charset-normalizer<4,>=2 in /Users/edelaire1/miniconda3/envs/mne_python/lib/python3.11/site-packages (from requests>=2.19.0->pooch>=1.5->mne==1.7.0) (3.4.1)\n",
      "Requirement already satisfied: idna<4,>=2.5 in /Users/edelaire1/miniconda3/envs/mne_python/lib/python3.11/site-packages (from requests>=2.19.0->pooch>=1.5->mne==1.7.0) (3.10)\n",
      "Requirement already satisfied: urllib3<3,>=1.21.1 in /Users/edelaire1/miniconda3/envs/mne_python/lib/python3.11/site-packages (from requests>=2.19.0->pooch>=1.5->mne==1.7.0) (2.3.0)\n",
      "Requirement already satisfied: certifi>=2017.4.17 in /Users/edelaire1/miniconda3/envs/mne_python/lib/python3.11/site-packages (from requests>=2.19.0->pooch>=1.5->mne==1.7.0) (2025.1.31)\n",
      "Note: you may need to restart the kernel to use updated packages.\n",
      "Requirement already satisfied: matplotlib in /Users/edelaire1/miniconda3/envs/mne_python/lib/python3.11/site-packages (3.10.1)\n",
      "Requirement already satisfied: contourpy>=1.0.1 in /Users/edelaire1/miniconda3/envs/mne_python/lib/python3.11/site-packages (from matplotlib) (1.3.1)\n",
      "Requirement already satisfied: cycler>=0.10 in /Users/edelaire1/miniconda3/envs/mne_python/lib/python3.11/site-packages (from matplotlib) (0.12.1)\n",
      "Requirement already satisfied: fonttools>=4.22.0 in /Users/edelaire1/miniconda3/envs/mne_python/lib/python3.11/site-packages (from matplotlib) (4.56.0)\n",
      "Requirement already satisfied: kiwisolver>=1.3.1 in /Users/edelaire1/miniconda3/envs/mne_python/lib/python3.11/site-packages (from matplotlib) (1.4.8)\n",
      "Requirement already satisfied: numpy>=1.23 in /Users/edelaire1/miniconda3/envs/mne_python/lib/python3.11/site-packages (from matplotlib) (2.2.3)\n",
      "Requirement already satisfied: packaging>=20.0 in /Users/edelaire1/miniconda3/envs/mne_python/lib/python3.11/site-packages (from matplotlib) (24.2)\n",
      "Requirement already satisfied: pillow>=8 in /Users/edelaire1/miniconda3/envs/mne_python/lib/python3.11/site-packages (from matplotlib) (11.1.0)\n",
      "Requirement already satisfied: pyparsing>=2.3.1 in /Users/edelaire1/miniconda3/envs/mne_python/lib/python3.11/site-packages (from matplotlib) (3.2.1)\n",
      "Requirement already satisfied: python-dateutil>=2.7 in /Users/edelaire1/miniconda3/envs/mne_python/lib/python3.11/site-packages (from matplotlib) (2.9.0.post0)\n",
      "Requirement already satisfied: six>=1.5 in /Users/edelaire1/miniconda3/envs/mne_python/lib/python3.11/site-packages (from python-dateutil>=2.7->matplotlib) (1.16.0)\n",
      "Note: you may need to restart the kernel to use updated packages.\n",
      "Requirement already satisfied: numpy in /Users/edelaire1/miniconda3/envs/mne_python/lib/python3.11/site-packages (2.2.3)\n",
      "Note: you may need to restart the kernel to use updated packages.\n",
      "Requirement already satisfied: pandas in /Users/edelaire1/miniconda3/envs/mne_python/lib/python3.11/site-packages (2.2.3)\n",
      "Requirement already satisfied: numpy>=1.23.2 in /Users/edelaire1/miniconda3/envs/mne_python/lib/python3.11/site-packages (from pandas) (2.2.3)\n",
      "Requirement already satisfied: python-dateutil>=2.8.2 in /Users/edelaire1/miniconda3/envs/mne_python/lib/python3.11/site-packages (from pandas) (2.9.0.post0)\n",
      "Requirement already satisfied: pytz>=2020.1 in /Users/edelaire1/miniconda3/envs/mne_python/lib/python3.11/site-packages (from pandas) (2025.1)\n",
      "Requirement already satisfied: tzdata>=2022.7 in /Users/edelaire1/miniconda3/envs/mne_python/lib/python3.11/site-packages (from pandas) (2025.1)\n",
      "Requirement already satisfied: six>=1.5 in /Users/edelaire1/miniconda3/envs/mne_python/lib/python3.11/site-packages (from python-dateutil>=2.8.2->pandas) (1.16.0)\n",
      "Note: you may need to restart the kernel to use updated packages.\n",
      "Requirement already satisfied: darkdetect in /Users/edelaire1/miniconda3/envs/mne_python/lib/python3.11/site-packages (0.8.0)\n",
      "Note: you may need to restart the kernel to use updated packages.\n"
     ]
    }
   ],
   "source": [
    "# Able to export maps as movies (optional)\n",
    "%pip install imageio\n",
    "# to convert the notebook to html, pdf, etc. (optional)\n",
    "%pip install nbconvert\n",
    "%pip install scipy\n",
    "%pip install mne==1.7.0\n",
    "%pip install matplotlib\n",
    "%pip install numpy\n",
    "%pip install pandas\n",
    "%pip install darkdetect\n",
    "# HERE \n",
    "# !!!!! The matlabengine version should match the version of MATLAB installed on your system !!!!!\n",
    "# Check : https://www.mathworks.com/help/matlab/matlab_external/install-the-matlab-engine-for-python.html#\n",
    "#%pip install matlabengine==23.2.3"
   ]
  },
  {
   "cell_type": "markdown",
   "metadata": {},
   "source": [
    "# Load MNE model"
   ]
  },
  {
   "cell_type": "code",
   "execution_count": 1,
   "metadata": {
    "vscode": {
     "languageId": "shellscript"
    }
   },
   "outputs": [
    {
     "name": "stdout",
     "output_type": "stream",
     "text": [
      "    365 x 365 full covariance (kind = 1) found.\n",
      "    Read a total of 4 projection items:\n",
      "        PCA-v1 (1 x 102) active\n",
      "        PCA-v2 (1 x 102) active\n",
      "        PCA-v3 (1 x 102) active\n",
      "        Average EEG reference (1 x 59) active\n",
      "Reading /Users/edelaire1/mne_data/MNE-sample-data/MEG/sample/sample_audvis-ave.fif ...\n",
      "    Read a total of 4 projection items:\n",
      "        PCA-v1 (1 x 102) active\n",
      "        PCA-v2 (1 x 102) active\n",
      "        PCA-v3 (1 x 102) active\n",
      "        Average EEG reference (1 x 60) active\n",
      "    Found the data of interest:\n",
      "        t =    -199.80 ...     499.49 ms (Left Auditory)\n",
      "        0 CTF compensation matrices available\n",
      "        nave = 55 - aspect type = 100\n",
      "Projections have already been applied. Setting proj attribute to True.\n",
      "Applying baseline correction (mode: mean)\n",
      "Reading forward solution from /Users/edelaire1/mne_data/MNE-sample-data/MEG/sample/sample_audvis-meg-eeg-oct-6-fwd.fif...\n",
      "    Reading a source space...\n",
      "    Computing patch statistics...\n",
      "    Patch information added...\n",
      "    Distance information added...\n",
      "    [done]\n",
      "    Reading a source space...\n",
      "    Computing patch statistics...\n",
      "    Patch information added...\n",
      "    Distance information added...\n",
      "    [done]\n",
      "    2 source spaces read\n",
      "    Desired named matrix (kind = 3523) not available\n",
      "    Read MEG forward solution (7498 sources, 306 channels, free orientations)\n",
      "    Desired named matrix (kind = 3523) not available\n",
      "    Read EEG forward solution (7498 sources, 60 channels, free orientations)\n",
      "    Forward solutions combined: MEG, EEG\n",
      "    Source spaces transformed to the forward solution coordinate frame\n",
      "    Average patch normals will be employed in the rotation to the local surface coordinates....\n",
      "    Converting to surface-based source orientations...\n",
      "    [done]\n"
     ]
    }
   ],
   "source": [
    "import mne\n",
    "\n",
    "from mne.datasets import sample\n",
    "\n",
    "data_path = sample.data_path()\n",
    "meg_path = data_path / \"MEG\" / \"sample\"\n",
    "fwd_fname = meg_path / \"sample_audvis-meg-eeg-oct-6-fwd.fif\"\n",
    "ave_fname = meg_path / \"sample_audvis-ave.fif\"\n",
    "cov_fname = meg_path / \"sample_audvis-shrunk-cov.fif\"\n",
    "subjects_dir = data_path / \"subjects\"\n",
    "condition = \"Left Auditory\"\n",
    "\n",
    "# Read noise covariance matrix\n",
    "noise_cov = mne.read_cov(cov_fname)\n",
    "# Handling average file\n",
    "evoked = mne.read_evokeds(ave_fname, condition=condition, baseline=(None, 0))\n",
    "evoked.crop(tmin=0.04, tmax=0.18)\n",
    "\n",
    "evoked = evoked.pick(picks=\"meg\", exclude=\"bads\")\n",
    "# Handling forward solution\n",
    "forward = mne.read_forward_solution(fwd_fname)\n",
    "\n",
    "# Convertir à un modèle à orientation libre\n",
    "# force_fixed: Orientation fixe ou libre\n",
    "# surf_ori: orientaton vers la surface\n",
    "forward = mne.convert_forward_solution(forward, force_fixed=True, surf_ori=True)"
   ]
  },
  {
   "cell_type": "markdown",
   "metadata": {},
   "source": [
    "# Start & Configure matlab engine\n",
    "## Start engine and add path"
   ]
  },
  {
   "cell_type": "code",
   "execution_count": 4,
   "metadata": {
    "vscode": {
     "languageId": "shellscript"
    }
   },
   "outputs": [],
   "source": [
    "# Start MATLAB engine\n",
    "import bestpython\n",
    "\n",
    "matlab_wrapper = bestpython.MatlabWrapper(\"/Users/edelaire1/.brainstorm/plugins/brainentropy/best-brainstorm-master\")"
   ]
  },
  {
   "cell_type": "markdown",
   "metadata": {},
   "source": [
    "## Define MEM options"
   ]
  },
  {
   "cell_type": "code",
   "execution_count": 5,
   "metadata": {},
   "outputs": [],
   "source": [
    "mem_options = bestpython.MEMOptions(\n",
    "    data_modality=\"MEG\",\n",
    "    time_segment = [0.04, 0.18],\n",
    "    baseline_time = [0.04, 0.1]\n",
    ")"
   ]
  },
  {
   "cell_type": "markdown",
   "metadata": {},
   "source": [
    "# Call solver"
   ]
  },
  {
   "cell_type": "code",
   "execution_count": null,
   "metadata": {},
   "outputs": [
    {
     "name": "stdout",
     "output_type": "stream",
     "text": [
      "info[\"bads\"] and noise_cov[\"bads\"] do not match, excluding bad channels from both\n",
      "Computing inverse operator with 305 channels.\n",
      "    305 out of 366 channels remain after picking\n",
      "Selected 305 channels\n",
      "Whitening the forward solution.\n",
      "    Created an SSP operator (subspace dimension = 3)\n",
      "Computing rank from covariance with rank=None\n",
      "    Using tolerance 3.5e-13 (2.2e-16 eps * 305 dim * 5.2  max singular value)\n",
      "    Estimated rank (mag + grad): 302\n",
      "    MEG: rank 302 computed from 305 data channels with 3 projectors\n",
      "    Setting small MEG eigenvalues to zero (without PCA)\n",
      "Creating the source covariance matrix\n",
      "Adjusting source covariance matrix.\n",
      "-- number of adjacent vertices : 8196\n"
     ]
    },
    {
     "name": "stderr",
     "output_type": "stream",
     "text": [
      "/Users/edelaire1/Documents/software/best-python/bestpython/solver.py:105: RuntimeWarning: 8.5% of original source space vertices have been omitted, tri-based adjacency will have holes.\n",
      "Consider using distance-based adjacency or morphing data to all source space vertices.\n",
      "  vertex_connectivity_matrix = mne.spatial_src_adjacency(forward['src'])\n"
     ]
    },
    {
     "name": "stdout",
     "output_type": "stream",
     "text": [
      "\n",
      "\n",
      "===== pipeline cMEM\n",
      "BLAS: trying environment BLAS_VERSION...\n",
      "BLAS: loading libmwAF_BLAS_ilp64.dylib\n",
      "BLAS: loaded libmwAF_BLAS_ilp64.dylib@0x2f02df140\n",
      "cMEM, be_main_source ... done.\n",
      "cMEM, be_main_leadfields ... done.\n",
      "cMEM, solving MNE by L-curve ...done. \n",
      "cMEM, stable clustering ...\n",
      "cMEM, stable clustering: dimension of the signal subspace 3, for inertia > 0.95\n",
      "MEM : New noise covariance is computed using baseline\n",
      "cMEM, No multimodalities ... \n",
      " done.\n",
      "cMEM, MEM at each samples (85 samples, may be done in parallel):\n",
      "Multiresolution sample (j,t): j=0 corresponds to the sampling scale.\n",
      "Sample   1( 0,0.042):\n",
      "\t\t264 clusters,\n",
      "\t\t1551 iter.\n",
      "\t\tEntropy drop:-631.2\n",
      "Sample   2( 0,0.043):\n",
      "\t\t264 clusters,\n",
      "\t\t1533 iter.\n",
      "\t\tEntropy drop:-360.0\n"
     ]
    }
   ],
   "source": [
    "stc = matlab_wrapper.mem_solver(evoked, forward, noise_cov, MEMOptions=mem_options)"
   ]
  },
  {
   "cell_type": "markdown",
   "metadata": {},
   "source": [
    "# Show results"
   ]
  },
  {
   "cell_type": "markdown",
   "metadata": {},
   "source": [
    "## Brain Map of the solutions"
   ]
  },
  {
   "cell_type": "code",
   "execution_count": null,
   "metadata": {},
   "outputs": [
    {
     "ename": "RuntimeError",
     "evalue": "Could not load any valid 3D backend\npyvistaqt: No Qt bindings could be found\nnotebook: No module named 'pyvista'\n\n install pyvistaqt, using pip or conda:\n'pip install pyvistaqt'\n'conda install -c conda-forge pyvistaqt'\n\n or install ipywidgets, if using a notebook backend\n'pip install ipywidgets'\n'conda install -c conda-forge ipywidgets'",
     "output_type": "error",
     "traceback": [
      "\u001b[0;31m---------------------------------------------------------------------------\u001b[0m",
      "\u001b[0;31mRuntimeError\u001b[0m                              Traceback (most recent call last)",
      "Cell \u001b[0;32mIn[10], line 4\u001b[0m\n\u001b[1;32m      1\u001b[0m get_ipython()\u001b[38;5;241m.\u001b[39mrun_line_magic(\u001b[38;5;124m'\u001b[39m\u001b[38;5;124mmatplotlib\u001b[39m\u001b[38;5;124m'\u001b[39m, \u001b[38;5;124m'\u001b[39m\u001b[38;5;124mpdf\u001b[39m\u001b[38;5;124m'\u001b[39m)\n\u001b[1;32m      3\u001b[0m initial_time \u001b[38;5;241m=\u001b[39m \u001b[38;5;241m-\u001b[39m\u001b[38;5;241m0.1\u001b[39m\n\u001b[0;32m----> 4\u001b[0m brain_cmem \u001b[38;5;241m=\u001b[39m stc_cmem\u001b[38;5;241m.\u001b[39mplot(\n\u001b[1;32m      5\u001b[0m     subjects_dir\u001b[38;5;241m=\u001b[39msubjects_dir,\n\u001b[1;32m      6\u001b[0m     initial_time\u001b[38;5;241m=\u001b[39minitial_time,\n\u001b[1;32m      7\u001b[0m     \u001b[38;5;66;03m# clim=dict(kind=\"value\", lims=[0, 5e-11, 1e-10]),\u001b[39;00m\n\u001b[1;32m      8\u001b[0m     smoothing_steps\u001b[38;5;241m=\u001b[39m\u001b[38;5;241m7\u001b[39m,\n\u001b[1;32m      9\u001b[0m     hemi\u001b[38;5;241m=\u001b[39m\u001b[38;5;124m'\u001b[39m\u001b[38;5;124mboth\u001b[39m\u001b[38;5;124m'\u001b[39m,\n\u001b[1;32m     10\u001b[0m )\n\u001b[1;32m     12\u001b[0m brain_cmem\u001b[38;5;241m.\u001b[39madd_text(\u001b[38;5;241m0.1\u001b[39m, \u001b[38;5;241m0.9\u001b[39m, \u001b[38;5;124m\"\u001b[39m\u001b[38;5;124mcMEM\u001b[39m\u001b[38;5;124m\"\u001b[39m, \u001b[38;5;124m\"\u001b[39m\u001b[38;5;124mtitle\u001b[39m\u001b[38;5;124m\"\u001b[39m, font_size\u001b[38;5;241m=\u001b[39m\u001b[38;5;241m14\u001b[39m)\n",
      "File \u001b[0;32m~/miniconda3/envs/mne_python/lib/python3.11/site-packages/mne/source_estimate.py:793\u001b[0m, in \u001b[0;36m_BaseSourceEstimate.plot\u001b[0;34m(self, subject, surface, hemi, colormap, time_label, smoothing_steps, transparent, alpha, time_viewer, subjects_dir, figure, views, colorbar, clim, cortex, size, background, foreground, initial_time, time_unit, backend, spacing, title, show_traces, src, volume_options, view_layout, add_data_kwargs, brain_kwargs, verbose)\u001b[0m\n\u001b[1;32m    759\u001b[0m \u001b[38;5;129m@copy_function_doc_to_method_doc\u001b[39m(plot_source_estimates)\n\u001b[1;32m    760\u001b[0m \u001b[38;5;28;01mdef\u001b[39;00m \u001b[38;5;21mplot\u001b[39m(\n\u001b[1;32m    761\u001b[0m     \u001b[38;5;28mself\u001b[39m,\n\u001b[0;32m   (...)\u001b[0m\n\u001b[1;32m    791\u001b[0m     verbose\u001b[38;5;241m=\u001b[39m\u001b[38;5;28;01mNone\u001b[39;00m,\n\u001b[1;32m    792\u001b[0m ):\n\u001b[0;32m--> 793\u001b[0m     brain \u001b[38;5;241m=\u001b[39m plot_source_estimates(\n\u001b[1;32m    794\u001b[0m         \u001b[38;5;28mself\u001b[39m,\n\u001b[1;32m    795\u001b[0m         subject,\n\u001b[1;32m    796\u001b[0m         surface\u001b[38;5;241m=\u001b[39msurface,\n\u001b[1;32m    797\u001b[0m         hemi\u001b[38;5;241m=\u001b[39mhemi,\n\u001b[1;32m    798\u001b[0m         colormap\u001b[38;5;241m=\u001b[39mcolormap,\n\u001b[1;32m    799\u001b[0m         time_label\u001b[38;5;241m=\u001b[39mtime_label,\n\u001b[1;32m    800\u001b[0m         smoothing_steps\u001b[38;5;241m=\u001b[39msmoothing_steps,\n\u001b[1;32m    801\u001b[0m         transparent\u001b[38;5;241m=\u001b[39mtransparent,\n\u001b[1;32m    802\u001b[0m         alpha\u001b[38;5;241m=\u001b[39malpha,\n\u001b[1;32m    803\u001b[0m         time_viewer\u001b[38;5;241m=\u001b[39mtime_viewer,\n\u001b[1;32m    804\u001b[0m         subjects_dir\u001b[38;5;241m=\u001b[39msubjects_dir,\n\u001b[1;32m    805\u001b[0m         figure\u001b[38;5;241m=\u001b[39mfigure,\n\u001b[1;32m    806\u001b[0m         views\u001b[38;5;241m=\u001b[39mviews,\n\u001b[1;32m    807\u001b[0m         colorbar\u001b[38;5;241m=\u001b[39mcolorbar,\n\u001b[1;32m    808\u001b[0m         clim\u001b[38;5;241m=\u001b[39mclim,\n\u001b[1;32m    809\u001b[0m         cortex\u001b[38;5;241m=\u001b[39mcortex,\n\u001b[1;32m    810\u001b[0m         size\u001b[38;5;241m=\u001b[39msize,\n\u001b[1;32m    811\u001b[0m         background\u001b[38;5;241m=\u001b[39mbackground,\n\u001b[1;32m    812\u001b[0m         foreground\u001b[38;5;241m=\u001b[39mforeground,\n\u001b[1;32m    813\u001b[0m         initial_time\u001b[38;5;241m=\u001b[39minitial_time,\n\u001b[1;32m    814\u001b[0m         time_unit\u001b[38;5;241m=\u001b[39mtime_unit,\n\u001b[1;32m    815\u001b[0m         backend\u001b[38;5;241m=\u001b[39mbackend,\n\u001b[1;32m    816\u001b[0m         spacing\u001b[38;5;241m=\u001b[39mspacing,\n\u001b[1;32m    817\u001b[0m         title\u001b[38;5;241m=\u001b[39mtitle,\n\u001b[1;32m    818\u001b[0m         show_traces\u001b[38;5;241m=\u001b[39mshow_traces,\n\u001b[1;32m    819\u001b[0m         src\u001b[38;5;241m=\u001b[39msrc,\n\u001b[1;32m    820\u001b[0m         volume_options\u001b[38;5;241m=\u001b[39mvolume_options,\n\u001b[1;32m    821\u001b[0m         view_layout\u001b[38;5;241m=\u001b[39mview_layout,\n\u001b[1;32m    822\u001b[0m         add_data_kwargs\u001b[38;5;241m=\u001b[39madd_data_kwargs,\n\u001b[1;32m    823\u001b[0m         brain_kwargs\u001b[38;5;241m=\u001b[39mbrain_kwargs,\n\u001b[1;32m    824\u001b[0m         verbose\u001b[38;5;241m=\u001b[39mverbose,\n\u001b[1;32m    825\u001b[0m     )\n\u001b[1;32m    826\u001b[0m     \u001b[38;5;28;01mreturn\u001b[39;00m brain\n",
      "File \u001b[0;32m<decorator-gen-187>:12\u001b[0m, in \u001b[0;36mplot_source_estimates\u001b[0;34m(stc, subject, surface, hemi, colormap, time_label, smoothing_steps, transparent, alpha, time_viewer, subjects_dir, figure, views, colorbar, clim, cortex, size, background, foreground, initial_time, time_unit, backend, spacing, title, show_traces, src, volume_options, view_layout, add_data_kwargs, brain_kwargs, verbose)\u001b[0m\n",
      "File \u001b[0;32m~/miniconda3/envs/mne_python/lib/python3.11/site-packages/mne/viz/_3d.py:2401\u001b[0m, in \u001b[0;36mplot_source_estimates\u001b[0;34m(stc, subject, surface, hemi, colormap, time_label, smoothing_steps, transparent, alpha, time_viewer, subjects_dir, figure, views, colorbar, clim, cortex, size, background, foreground, initial_time, time_unit, backend, spacing, title, show_traces, src, volume_options, view_layout, add_data_kwargs, brain_kwargs, verbose)\u001b[0m\n\u001b[1;32m   2399\u001b[0m \u001b[38;5;28;01mif\u001b[39;00m backend \u001b[38;5;241m==\u001b[39m \u001b[38;5;124m\"\u001b[39m\u001b[38;5;124mauto\u001b[39m\u001b[38;5;124m\"\u001b[39m:\n\u001b[1;32m   2400\u001b[0m     \u001b[38;5;28;01mtry\u001b[39;00m:\n\u001b[0;32m-> 2401\u001b[0m         backend \u001b[38;5;241m=\u001b[39m _get_3d_backend()\n\u001b[1;32m   2402\u001b[0m     \u001b[38;5;28;01mexcept\u001b[39;00m (\u001b[38;5;167;01mImportError\u001b[39;00m, \u001b[38;5;167;01mModuleNotFoundError\u001b[39;00m):\n\u001b[1;32m   2403\u001b[0m         warn(\u001b[38;5;124m\"\u001b[39m\u001b[38;5;124mNo 3D backend found. Resorting to matplotlib 3d.\u001b[39m\u001b[38;5;124m\"\u001b[39m)\n",
      "File \u001b[0;32m~/miniconda3/envs/mne_python/lib/python3.11/site-packages/mne/viz/backends/renderer.py:185\u001b[0m, in \u001b[0;36m_get_3d_backend\u001b[0;34m()\u001b[0m\n\u001b[1;32m    183\u001b[0m             \u001b[38;5;28;01mbreak\u001b[39;00m\n\u001b[1;32m    184\u001b[0m     \u001b[38;5;28;01melse\u001b[39;00m:\n\u001b[0;32m--> 185\u001b[0m         \u001b[38;5;28;01mraise\u001b[39;00m \u001b[38;5;167;01mRuntimeError\u001b[39;00m(\n\u001b[1;32m    186\u001b[0m             \u001b[38;5;124m\"\u001b[39m\u001b[38;5;124mCould not load any valid 3D backend\u001b[39m\u001b[38;5;130;01m\\n\u001b[39;00m\u001b[38;5;124m\"\u001b[39m\n\u001b[1;32m    187\u001b[0m             \u001b[38;5;241m+\u001b[39m \u001b[38;5;124m\"\u001b[39m\u001b[38;5;130;01m\\n\u001b[39;00m\u001b[38;5;124m\"\u001b[39m\u001b[38;5;241m.\u001b[39mjoin(\u001b[38;5;124mf\u001b[39m\u001b[38;5;124m\"\u001b[39m\u001b[38;5;132;01m{\u001b[39;00mkey\u001b[38;5;132;01m}\u001b[39;00m\u001b[38;5;124m: \u001b[39m\u001b[38;5;132;01m{\u001b[39;00mval\u001b[38;5;132;01m}\u001b[39;00m\u001b[38;5;124m\"\u001b[39m \u001b[38;5;28;01mfor\u001b[39;00m key, val \u001b[38;5;129;01min\u001b[39;00m errors\u001b[38;5;241m.\u001b[39mitems())\n\u001b[1;32m    188\u001b[0m             \u001b[38;5;241m+\u001b[39m \u001b[38;5;124m\"\u001b[39m\u001b[38;5;130;01m\\n\u001b[39;00m\u001b[38;5;124m\"\u001b[39m\u001b[38;5;241m.\u001b[39mjoin(\n\u001b[1;32m    189\u001b[0m                 (\n\u001b[1;32m    190\u001b[0m                     \u001b[38;5;124m\"\u001b[39m\u001b[38;5;130;01m\\n\u001b[39;00m\u001b[38;5;130;01m\\n\u001b[39;00m\u001b[38;5;124m install pyvistaqt, using pip or conda:\u001b[39m\u001b[38;5;124m\"\u001b[39m,\n\u001b[1;32m    191\u001b[0m                     \u001b[38;5;124m\"\u001b[39m\u001b[38;5;124m'\u001b[39m\u001b[38;5;124mpip install pyvistaqt\u001b[39m\u001b[38;5;124m'\u001b[39m\u001b[38;5;124m\"\u001b[39m,\n\u001b[1;32m    192\u001b[0m                     \u001b[38;5;124m\"\u001b[39m\u001b[38;5;124m'\u001b[39m\u001b[38;5;124mconda install -c conda-forge pyvistaqt\u001b[39m\u001b[38;5;124m'\u001b[39m\u001b[38;5;124m\"\u001b[39m,\n\u001b[1;32m    193\u001b[0m                     \u001b[38;5;124m\"\u001b[39m\u001b[38;5;130;01m\\n\u001b[39;00m\u001b[38;5;124m or install ipywidgets, \u001b[39m\u001b[38;5;124m\"\u001b[39m\n\u001b[1;32m    194\u001b[0m                     \u001b[38;5;241m+\u001b[39m \u001b[38;5;124m\"\u001b[39m\u001b[38;5;124mif using a notebook backend\u001b[39m\u001b[38;5;124m\"\u001b[39m,\n\u001b[1;32m    195\u001b[0m                     \u001b[38;5;124m\"\u001b[39m\u001b[38;5;124m'\u001b[39m\u001b[38;5;124mpip install ipywidgets\u001b[39m\u001b[38;5;124m'\u001b[39m\u001b[38;5;124m\"\u001b[39m,\n\u001b[1;32m    196\u001b[0m                     \u001b[38;5;124m\"\u001b[39m\u001b[38;5;124m'\u001b[39m\u001b[38;5;124mconda install -c conda-forge ipywidgets\u001b[39m\u001b[38;5;124m'\u001b[39m\u001b[38;5;124m\"\u001b[39m,\n\u001b[1;32m    197\u001b[0m                 )\n\u001b[1;32m    198\u001b[0m             )\n\u001b[1;32m    199\u001b[0m         )\n\u001b[1;32m    201\u001b[0m \u001b[38;5;28;01melse\u001b[39;00m:\n\u001b[1;32m    202\u001b[0m     MNE_3D_BACKEND \u001b[38;5;241m=\u001b[39m _check_3d_backend_name(MNE_3D_BACKEND)\n",
      "\u001b[0;31mRuntimeError\u001b[0m: Could not load any valid 3D backend\npyvistaqt: No Qt bindings could be found\nnotebook: No module named 'pyvista'\n\n install pyvistaqt, using pip or conda:\n'pip install pyvistaqt'\n'conda install -c conda-forge pyvistaqt'\n\n or install ipywidgets, if using a notebook backend\n'pip install ipywidgets'\n'conda install -c conda-forge ipywidgets'"
     ]
    }
   ],
   "source": [
    "initial_time = -0.1\n",
    "brain_cmem = stc_cmem.plot(\n",
    "    subjects_dir=subjects_dir,\n",
    "    initial_time=initial_time,\n",
    "    # clim=dict(kind=\"value\", lims=[0, 5e-11, 1e-10]),\n",
    "    smoothing_steps=7,\n",
    "    hemi='both',\n",
    ")\n",
    "\n",
    "brain_cmem.add_text(0.1, 0.9, \"cMEM\", \"title\", font_size=14)"
   ]
  },
  {
   "cell_type": "markdown",
   "metadata": {},
   "source": [
    "## Amplitude for each source and vetex"
   ]
  },
  {
   "cell_type": "markdown",
   "metadata": {},
   "source": [
    "## Compare with MNE Default method"
   ]
  },
  {
   "cell_type": "code",
   "execution_count": null,
   "metadata": {},
   "outputs": [],
   "source": [
    "from mne import read_source_estimate\n",
    "from mne.minimum_norm import apply_inverse, make_inverse_operator\n",
    "\n",
    "fname_stc = meg_path / \"sample_audvis-meg\"\n",
    "\n",
    "inverse_operator = make_inverse_operator(\n",
    "    evoked.info, forward, noise_cov, loose=0, depth=0\n",
    ")\n",
    "\n",
    "stc_mne = apply_inverse(\n",
    "    evoked,\n",
    "    inverse_operator,\n",
    "    pick_ori=None,\n",
    "    method=\"MNE\"\n",
    ")\n",
    "\n",
    "# Define plotting parameters\n",
    "surfer_kwargs = dict(\n",
    "    hemi=\"both\",\n",
    "    subjects_dir=subjects_dir,\n",
    "    smoothing_steps=7,\n",
    ")\n",
    "\n",
    "# Plot surface\n",
    "brain_mne = stc_mne.plot(**surfer_kwargs)\n",
    "brain_mne.add_text(0.1, 0.9, \"MNE\", \"title\", font_size=14)"
   ]
  },
  {
   "cell_type": "markdown",
   "metadata": {},
   "source": [
    "## Show maps with absolute values"
   ]
  },
  {
   "cell_type": "code",
   "execution_count": null,
   "metadata": {},
   "outputs": [
    {
     "name": "stdout",
     "output_type": "stream",
     "text": [
      "Using control points [3.78270031e-14 7.02257232e-14 7.92968607e-13]\n"
     ]
    },
    {
     "name": "stdout",
     "output_type": "stream",
     "text": [
      "Using control points [1.69554860e-10 2.07091805e-10 6.66194162e-10]\n"
     ]
    },
    {
     "name": "stdout",
     "output_type": "stream",
     "text": [
      "Using control points [4.93664253e-13 5.96855178e-13 1.74351802e-12]\n"
     ]
    }
   ],
   "source": [
    "stc_cmem_abs = stc_cmem.copy()\n",
    "stc_cmem_abs.data = np.abs(stc_cmem_abs.data)\n",
    "\n",
    "brain_cmem_abs = stc_cmem_abs.plot(\n",
    "    subject=\"sample\",\n",
    "    subjects_dir=subjects_dir,\n",
    "    initial_time=initial_time,\n",
    "    smoothing_steps=7,\n",
    "    hemi='both',\n",
    "    title=\"cMEM abs\",\n",
    ")\n",
    "\n",
    "brain_cmem_abs.add_text(0.1, 0.9, \"cMEM abs\", \"title\", font_size=14)\n",
    "\n",
    "stc_mne_abs = stc_mne.copy()\n",
    "stc_mne_abs.data = np.abs(stc_mne_abs.data)\n",
    "\n",
    "# Plot the result\n",
    "brain_mne_abs = stc_mne_abs.plot(\n",
    "    subject=\"sample\",\n",
    "    subjects_dir=subjects_dir,\n",
    "    initial_time=initial_time,\n",
    "    smoothing_steps=7,\n",
    "    hemi='both',\n",
    ")\n",
    "\n",
    "brain_mne_abs.add_text(0.1, 0.9, \"MNE abs\", \"title\", font_size=14)"
   ]
  }
 ],
 "metadata": {
  "kernelspec": {
   "display_name": "mne_python",
   "language": "python",
   "name": "python3"
  },
  "language_info": {
   "codemirror_mode": {
    "name": "ipython",
    "version": 3
   },
   "file_extension": ".py",
   "mimetype": "text/x-python",
   "name": "python",
   "nbconvert_exporter": "python",
   "pygments_lexer": "ipython3",
   "version": "3.11.9"
  }
 },
 "nbformat": 4,
 "nbformat_minor": 2
}
